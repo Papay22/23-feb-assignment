{
 "cells": [
  {
   "cell_type": "code",
   "execution_count": null,
   "id": "de5b3f45-60a7-4a10-b107-8679bdac0c7f",
   "metadata": {},
   "outputs": [],
   "source": [
    "import pandas as pd\n",
    "\n",
    "\n",
    "data = 4, 8, 15, 16, 23, 42\n",
    "\n",
    "series = pd.Series(data)\n",
    "\n",
    "print(series)"
   ]
  },
  {
   "cell_type": "code",
   "execution_count": null,
   "id": "4beb1f0f-e823-461e-975a-871a18cf90ea",
   "metadata": {},
   "outputs": [],
   "source": [
    "my_list = 1, 2, 3, 4, 5, 6, 7, 8, 9, 10\n",
    "\n",
    "\n",
    "import pandas as pd\n",
    "\n",
    "\n",
    "my_series = pd.Series(my_list)\n",
    "\n",
    "print(my_series)\n",
    "\n",
    "\n",
    "0 1\n",
    "\n",
    "1 2\n",
    "\n",
    "2 3\n",
    "\n",
    "3 4\n",
    "\n",
    "4 5\n",
    "\n",
    "5 6\n",
    "\n",
    "6 7\n",
    "\n",
    "7 8\n",
    "\n",
    "8 9\n",
    "\n",
    "9 10\n",
    "\n",
    "dtype: int64"
   ]
  },
  {
   "cell_type": "code",
   "execution_count": null,
   "id": "1a1c3c70-9797-4338-890f-ab1ddc77d74b",
   "metadata": {},
   "outputs": [],
   "source": [
    "DataFrame is a two-dimensional data structure in pandas. It is similar to a spreadsheet with rows and columns. It is different from pandas.series because it can contain multiple data types, such as integers, floats, strings, and booleans, while pandas.series can only contain one data type.\n",
    "\n",
    "\n",
    "For example, if we have a DataFrame that contains student information, it might have columns for name, age, grade level, and GPA. Each row would represent a different student and each column would represent a different attribute of the student."
   ]
  },
  {
   "cell_type": "code",
   "execution_count": null,
   "id": "d7eaa38d-1309-4069-a022-06c6f13b624d",
   "metadata": {},
   "outputs": [],
   "source": [
    "Common functions for manipulating data in a Pandas DataFrame include:\n",
    "\n",
    "\n",
    "head() - to view the first few rows of the DataFrame\n",
    "tail() - to view the last few rows of the DataFrame\n",
    "info() - to view information about the DataFrame, such as column types and memory usage\n",
    "describe() - to view summary statistics about the DataFrame\n",
    "drop() - to remove columns or rows from the DataFrame\n",
    "sort_values() - to sort the DataFrame by one or more columns\n",
    "groupby() - to group rows in the DataFrame by one or more columns\n",
    "pivot_table() - to create a new DataFrame with a multi-level index from one or more columns"
   ]
  },
  {
   "cell_type": "code",
   "execution_count": null,
   "id": "952f008d-5d01-48c9-9ff3-be2f959e07f3",
   "metadata": {},
   "outputs": [],
   "source": [
    "DataFrame and Panel are mutable in nature."
   ]
  },
  {
   "cell_type": "code",
   "execution_count": null,
   "id": "fd9e3949-2b91-4ae8-bae5-9e7618f29277",
   "metadata": {},
   "outputs": [],
   "source": [
    "A DataFrame is a two-dimensional data structure that can store data of different types (including characters, integers, floating point values, categorical data and more). It is a powerful tool for data analysis and manipulation.\n",
    "\n",
    "\n",
    "We can create a DataFrame using multiple Series. For example, let's create a DataFrame with two Series:\n",
    "\n",
    "\n",
    "import pandas as pd\n",
    "\n",
    "\n",
    "#Create a series\n",
    "\n",
    "s1 = pd.Series(1,2,3,4,5)\n",
    "\n",
    "\n",
    "#Create a series\n",
    "\n",
    "s2 = pd.Series('a','b','c','d','e')\n",
    "\n",
    "\n",
    "#Create a DataFrame\n",
    "\n",
    "df = pd.DataFrame({'col1': s1, 'col2': s2})\n",
    "\n",
    "\n",
    "#Print the DataFrame\n",
    "\n",
    "print(df)\n",
    "\n",
    "\n",
    "Output:\n",
    "\n",
    "\n",
    "col1 col2\n",
    "\n",
    "0 1 a\n",
    "\n",
    "1 2 b\n",
    "\n",
    "2 3 c\n",
    "\n",
    "3 4 d\n",
    "\n",
    "4 5 e\n",
    "\n"
   ]
  }
 ],
 "metadata": {
  "kernelspec": {
   "display_name": "Python 3 (ipykernel)",
   "language": "python",
   "name": "python3"
  },
  "language_info": {
   "codemirror_mode": {
    "name": "ipython",
    "version": 3
   },
   "file_extension": ".py",
   "mimetype": "text/x-python",
   "name": "python",
   "nbconvert_exporter": "python",
   "pygments_lexer": "ipython3",
   "version": "3.10.8"
  }
 },
 "nbformat": 4,
 "nbformat_minor": 5
}
